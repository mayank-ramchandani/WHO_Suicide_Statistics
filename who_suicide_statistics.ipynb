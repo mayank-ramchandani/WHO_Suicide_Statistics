{
 "cells": [
  {
   "cell_type": "code",
   "execution_count": 23,
   "metadata": {
    "collapsed": true
   },
   "outputs": [
    {
     "name": "stdout",
     "output_type": "stream",
     "text": [
      "Statistics are not available for these countries : \n"
     ]
    },
    {
     "data": {
      "text/plain": "          year     sex          age  suicides_no  population\ncountry                                                     \nAlbania   1985  female  15-24 years          NaN    277900.0\nAlbania   1985  female  25-34 years          NaN    246800.0\nAlbania   1985  female  35-54 years          NaN    267500.0\nAlbania   1985  female   5-14 years          NaN    298300.0\nAlbania   1985  female  55-74 years          NaN    138700.0\n...        ...     ...          ...          ...         ...\nZimbabwe  1990    male  25-34 years        150.0         NaN\nZimbabwe  1990    male  35-54 years        132.0         NaN\nZimbabwe  1990    male   5-14 years          6.0         NaN\nZimbabwe  1990    male  55-74 years         74.0         NaN\nZimbabwe  1990    male    75+ years         13.0         NaN\n\n[43776 rows x 5 columns]",
      "text/html": "<div>\n<style scoped>\n    .dataframe tbody tr th:only-of-type {\n        vertical-align: middle;\n    }\n\n    .dataframe tbody tr th {\n        vertical-align: top;\n    }\n\n    .dataframe thead th {\n        text-align: right;\n    }\n</style>\n<table border=\"1\" class=\"dataframe\">\n  <thead>\n    <tr style=\"text-align: right;\">\n      <th></th>\n      <th>year</th>\n      <th>sex</th>\n      <th>age</th>\n      <th>suicides_no</th>\n      <th>population</th>\n    </tr>\n    <tr>\n      <th>country</th>\n      <th></th>\n      <th></th>\n      <th></th>\n      <th></th>\n      <th></th>\n    </tr>\n  </thead>\n  <tbody>\n    <tr>\n      <th>Albania</th>\n      <td>1985</td>\n      <td>female</td>\n      <td>15-24 years</td>\n      <td>NaN</td>\n      <td>277900.0</td>\n    </tr>\n    <tr>\n      <th>Albania</th>\n      <td>1985</td>\n      <td>female</td>\n      <td>25-34 years</td>\n      <td>NaN</td>\n      <td>246800.0</td>\n    </tr>\n    <tr>\n      <th>Albania</th>\n      <td>1985</td>\n      <td>female</td>\n      <td>35-54 years</td>\n      <td>NaN</td>\n      <td>267500.0</td>\n    </tr>\n    <tr>\n      <th>Albania</th>\n      <td>1985</td>\n      <td>female</td>\n      <td>5-14 years</td>\n      <td>NaN</td>\n      <td>298300.0</td>\n    </tr>\n    <tr>\n      <th>Albania</th>\n      <td>1985</td>\n      <td>female</td>\n      <td>55-74 years</td>\n      <td>NaN</td>\n      <td>138700.0</td>\n    </tr>\n    <tr>\n      <th>...</th>\n      <td>...</td>\n      <td>...</td>\n      <td>...</td>\n      <td>...</td>\n      <td>...</td>\n    </tr>\n    <tr>\n      <th>Zimbabwe</th>\n      <td>1990</td>\n      <td>male</td>\n      <td>25-34 years</td>\n      <td>150.0</td>\n      <td>NaN</td>\n    </tr>\n    <tr>\n      <th>Zimbabwe</th>\n      <td>1990</td>\n      <td>male</td>\n      <td>35-54 years</td>\n      <td>132.0</td>\n      <td>NaN</td>\n    </tr>\n    <tr>\n      <th>Zimbabwe</th>\n      <td>1990</td>\n      <td>male</td>\n      <td>5-14 years</td>\n      <td>6.0</td>\n      <td>NaN</td>\n    </tr>\n    <tr>\n      <th>Zimbabwe</th>\n      <td>1990</td>\n      <td>male</td>\n      <td>55-74 years</td>\n      <td>74.0</td>\n      <td>NaN</td>\n    </tr>\n    <tr>\n      <th>Zimbabwe</th>\n      <td>1990</td>\n      <td>male</td>\n      <td>75+ years</td>\n      <td>13.0</td>\n      <td>NaN</td>\n    </tr>\n  </tbody>\n</table>\n<p>43776 rows × 5 columns</p>\n</div>"
     },
     "execution_count": 23,
     "metadata": {},
     "output_type": "execute_result"
    }
   ],
   "source": [
    "import pandas as pd\n",
    "import matplotlib as plt\n",
    "import numpy as np\n",
    "file = input(\"Enter the name of the file\") ##C:\\Users\\LENOVO\\Desktop\\CS\\Projects\\Data Science\\who_suicide_statistics.csv\n",
    "who_suicide_stats = pd.read_csv(file, index_col = 'country')\n",
    "country = who_suicide_stats.groupby('country')\n",
    "country\n",
    "sex = who_suicide_stats.groupby('sex')\n",
    "age = who_suicide_stats.groupby('age')\n",
    "stats_available = who_suicide_stats['suicides_no'] != np.nan\n",
    "print(\"Statistics are not available for these countries : \")\n",
    "who_suicide_stats[stats_available]"
   ]
  },
  {
   "cell_type": "code",
   "execution_count": null,
   "outputs": [],
   "source": [
    "print(\"Suicide rates by sex\")\n",
    "sex\n",
    "print(\"Suicide rates by age\")\n",
    "age"
   ],
   "metadata": {
    "collapsed": false,
    "pycharm": {
     "name": "#%%\n"
    }
   }
  },
  {
   "cell_type": "code",
   "execution_count": null,
   "outputs": [],
   "source": [
    "who_suicide_stats['Albania', 'suicides_no']"
   ],
   "metadata": {
    "collapsed": false,
    "pycharm": {
     "name": "#%%\n"
    }
   }
  },
  {
   "cell_type": "code",
   "execution_count": 25,
   "outputs": [
    {
     "data": {
      "text/plain": "          year     sex          age  suicides_no  population\ncountry                                                     \nAlbania   1985  female  15-24 years          NaN    277900.0\nAlbania   1985  female  25-34 years          NaN    246800.0\nAlbania   1985  female  35-54 years          NaN    267500.0\nAlbania   1985  female   5-14 years          NaN    298300.0\nAlbania   1985  female  55-74 years          NaN    138700.0\n...        ...     ...          ...          ...         ...\nZimbabwe  1990    male  25-34 years        150.0         NaN\nZimbabwe  1990    male  35-54 years        132.0         NaN\nZimbabwe  1990    male   5-14 years          6.0         NaN\nZimbabwe  1990    male  55-74 years         74.0         NaN\nZimbabwe  1990    male    75+ years         13.0         NaN\n\n[43776 rows x 5 columns]",
      "text/html": "<div>\n<style scoped>\n    .dataframe tbody tr th:only-of-type {\n        vertical-align: middle;\n    }\n\n    .dataframe tbody tr th {\n        vertical-align: top;\n    }\n\n    .dataframe thead th {\n        text-align: right;\n    }\n</style>\n<table border=\"1\" class=\"dataframe\">\n  <thead>\n    <tr style=\"text-align: right;\">\n      <th></th>\n      <th>year</th>\n      <th>sex</th>\n      <th>age</th>\n      <th>suicides_no</th>\n      <th>population</th>\n    </tr>\n    <tr>\n      <th>country</th>\n      <th></th>\n      <th></th>\n      <th></th>\n      <th></th>\n      <th></th>\n    </tr>\n  </thead>\n  <tbody>\n    <tr>\n      <th>Albania</th>\n      <td>1985</td>\n      <td>female</td>\n      <td>15-24 years</td>\n      <td>NaN</td>\n      <td>277900.0</td>\n    </tr>\n    <tr>\n      <th>Albania</th>\n      <td>1985</td>\n      <td>female</td>\n      <td>25-34 years</td>\n      <td>NaN</td>\n      <td>246800.0</td>\n    </tr>\n    <tr>\n      <th>Albania</th>\n      <td>1985</td>\n      <td>female</td>\n      <td>35-54 years</td>\n      <td>NaN</td>\n      <td>267500.0</td>\n    </tr>\n    <tr>\n      <th>Albania</th>\n      <td>1985</td>\n      <td>female</td>\n      <td>5-14 years</td>\n      <td>NaN</td>\n      <td>298300.0</td>\n    </tr>\n    <tr>\n      <th>Albania</th>\n      <td>1985</td>\n      <td>female</td>\n      <td>55-74 years</td>\n      <td>NaN</td>\n      <td>138700.0</td>\n    </tr>\n    <tr>\n      <th>...</th>\n      <td>...</td>\n      <td>...</td>\n      <td>...</td>\n      <td>...</td>\n      <td>...</td>\n    </tr>\n    <tr>\n      <th>Zimbabwe</th>\n      <td>1990</td>\n      <td>male</td>\n      <td>25-34 years</td>\n      <td>150.0</td>\n      <td>NaN</td>\n    </tr>\n    <tr>\n      <th>Zimbabwe</th>\n      <td>1990</td>\n      <td>male</td>\n      <td>35-54 years</td>\n      <td>132.0</td>\n      <td>NaN</td>\n    </tr>\n    <tr>\n      <th>Zimbabwe</th>\n      <td>1990</td>\n      <td>male</td>\n      <td>5-14 years</td>\n      <td>6.0</td>\n      <td>NaN</td>\n    </tr>\n    <tr>\n      <th>Zimbabwe</th>\n      <td>1990</td>\n      <td>male</td>\n      <td>55-74 years</td>\n      <td>74.0</td>\n      <td>NaN</td>\n    </tr>\n    <tr>\n      <th>Zimbabwe</th>\n      <td>1990</td>\n      <td>male</td>\n      <td>75+ years</td>\n      <td>13.0</td>\n      <td>NaN</td>\n    </tr>\n  </tbody>\n</table>\n<p>43776 rows × 5 columns</p>\n</div>"
     },
     "execution_count": 25,
     "metadata": {},
     "output_type": "execute_result"
    }
   ],
   "source": [
    "who_suicide_stats.groupby('country')\n",
    "who_suicide_stats\n",
    "\n"
   ],
   "metadata": {
    "collapsed": false,
    "pycharm": {
     "name": "#%%\n"
    }
   }
  }
 ],
 "metadata": {
  "kernelspec": {
   "display_name": "Python 3",
   "language": "python",
   "name": "python3"
  },
  "language_info": {
   "codemirror_mode": {
    "name": "ipython",
    "version": 2
   },
   "file_extension": ".py",
   "mimetype": "text/x-python",
   "name": "python",
   "nbconvert_exporter": "python",
   "pygments_lexer": "ipython2",
   "version": "2.7.6"
  }
 },
 "nbformat": 4,
 "nbformat_minor": 0
}